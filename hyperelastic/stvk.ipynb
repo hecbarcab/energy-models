{
 "cells": [
  {
   "cell_type": "code",
   "execution_count": 1,
   "metadata": {},
   "outputs": [],
   "source": [
    "import sympy as sym\n",
    "import helpers\n",
    "from IPython.display import display\n",
    "from IPython.display import Code"
   ]
  },
  {
   "cell_type": "markdown",
   "metadata": {},
   "source": [
    "## ST-VK Hyperelastic Model"
   ]
  },
  {
   "cell_type": "code",
   "execution_count": 2,
   "metadata": {},
   "outputs": [],
   "source": [
    "# Define input variables and constants.\n",
    "\n",
    "f00, f01, f02, f10, f11, f12, f20, f21, f22 = f = sym.symbols('f00 f01 f02 f10 f11 f12 f20 f21 f22')\n",
    "lame1, lame2 = sym.symbols('lambda mu', constants = True)\n",
    "\n",
    "# Define expression to evaluate.\n",
    "\n",
    "F = sym.Matrix([[ f00, f01, f02 ], [ f10, f11, f12 ], [ f20, f21, f22 ]])\n",
    "I = sym.eye(3)\n",
    "E1 = (F.T * F - I) / 2\n",
    "E2 = E1 * E1\n",
    "\n",
    "trE1 = sym.Trace(E1).doit() # Explicitly evaluate trace. Sympy has problems differentiating\n",
    "trE2 = sym.Trace(E2).doit() # it otherwise.\n",
    "\n",
    "U = lame1 * (trE1 ** 2) / 2 + lame2 * trE2\n",
    "dUdF = helpers.gradient(U, f)\n",
    "d2UdF2 = helpers.hessian(U, f)\n",
    "\n",
    "# Define specific routines to export to code.\n",
    "\n",
    "export = [(\"U\", U), (\"dUdF\", dUdF), (\"d2UdF2\", d2UdF2)]\n",
    "\n",
    "# Generate code and save to disk.\n",
    "\n",
    "code = helpers.generate(export)\n",
    "helpers.save('generated/stvk-U.c', code[0])\n",
    "helpers.save('generated/stvk-dUdF.c', code[1])\n",
    "helpers.save('generated/stvk-d2UdF2.c', code[2])\n",
    "\n",
    "# Display.\n",
    "\n",
    "#print('Energy')\n",
    "#display(U)\n",
    "#print('Gradient')\n",
    "#display(dUdF)\n",
    "#print('Hessian')\n",
    "#display(d2UdF2)\n"
   ]
  },
  {
   "cell_type": "markdown",
   "metadata": {},
   "source": [
    "## ST-VK Dissipation Potential"
   ]
  },
  {
   "cell_type": "code",
   "execution_count": 3,
   "metadata": {},
   "outputs": [],
   "source": [
    "# Define input variables and constants.\n",
    "\n",
    "f00, f01, f02, f10, f11, f12, f20, f21, f22 = f = sym.symbols('f00 f01 f02 f10 f11 f12 f20 f21 f22')\n",
    "g00, g01, g02, g10, g11, g12, g20, g21, g22 = g = sym.symbols('g00 g01 g02 g10 g11 g12 g20 g21 g22')\n",
    "lame1, lame2 = sym.symbols('lambda mu', constants = True)\n",
    "\n",
    "# Define expression to evaluate.\n",
    "\n",
    "F = sym.Matrix([[ f00, f01, f02 ], [ f10, f11, f12 ], [ f20, f21, f22 ]])\n",
    "G = sym.Matrix([[ g00, g01, g02 ], [ g10, g11, g12 ], [ g20, g21, g22 ]])\n",
    "I = sym.eye(3)\n",
    "E1 = (G.T * F + F.T * G) / 2\n",
    "E2 = E1 * E1\n",
    "\n",
    "trE1 = sym.Trace(E1).doit()\n",
    "trE2 = sym.Trace(E2).doit()\n",
    "\n",
    "R = lame1 * (trE1 ** 2) / 2 + lame2 * trE2\n",
    "dRdFG = helpers.gradient(R, [ *f, *g ])\n",
    "d2RdFG2 = helpers.hessian(R, [ *f, *g ])\n",
    "\n",
    "# Define specific routines to export to code.\n",
    "\n",
    "export = [(\"R\", R), (\"dRdFG\", dRdFG), (\"d2RdF2\", d2RdFG2)]\n",
    "\n",
    "\n",
    "# Generate code and save to disk.\n",
    "\n",
    "code = helpers.generate(export)\n",
    "helpers.save('generated/stvk-dissip-R.inc', code[0])\n",
    "helpers.save('generated/stvk-dissip-dRdFG.inc', code[1])\n",
    "helpers.save('generated/stvk-dissip-d2RdFG2.inc', code[2])\n",
    "\n",
    "# Display.\n",
    "\n",
    "#print('Dissipation potential')\n",
    "#display(R)\n",
    "#print('Gradient')\n",
    "#display(dRdFG)\n",
    "#print('Hessian')\n",
    "#display(d2RdFG2)\n",
    "#print('Code')\n"
   ]
  }
 ],
 "metadata": {
  "kernelspec": {
   "display_name": "Python 3",
   "language": "python",
   "name": "python3"
  },
  "language_info": {
   "codemirror_mode": {
    "name": "ipython",
    "version": 3
   },
   "file_extension": ".py",
   "mimetype": "text/x-python",
   "name": "python",
   "nbconvert_exporter": "python",
   "pygments_lexer": "ipython3",
   "version": "3.7.3"
  },
  "varInspector": {
   "cols": {
    "lenName": 16,
    "lenType": 16,
    "lenVar": 40
   },
   "kernels_config": {
    "python": {
     "delete_cmd_postfix": "",
     "delete_cmd_prefix": "del ",
     "library": "var_list.py",
     "varRefreshCmd": "print(var_dic_list())"
    },
    "r": {
     "delete_cmd_postfix": ") ",
     "delete_cmd_prefix": "rm(",
     "library": "var_list.r",
     "varRefreshCmd": "cat(var_dic_list()) "
    }
   },
   "position": {
    "height": "476.85px",
    "left": "1180.6px",
    "right": "20px",
    "top": "120px",
    "width": "335.4px"
   },
   "types_to_exclude": [
    "module",
    "function",
    "builtin_function_or_method",
    "instance",
    "_Feature"
   ],
   "window_display": false
  }
 },
 "nbformat": 4,
 "nbformat_minor": 2
}
